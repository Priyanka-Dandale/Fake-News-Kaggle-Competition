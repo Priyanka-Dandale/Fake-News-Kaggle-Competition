{
  "nbformat": 4,
  "nbformat_minor": 0,
  "metadata": {
    "colab": {
      "name": "Fake_News_Detection_Part-2.ipynb",
      "provenance": [],
      "collapsed_sections": []
    },
    "kernelspec": {
      "name": "python3",
      "display_name": "Python 3"
    },
    "language_info": {
      "name": "python"
    }
  },
  "cells": [
    {
      "cell_type": "markdown",
      "metadata": {
        "id": "-ZtF7UJ492cm"
      },
      "source": [
        "# Importing data from part-1"
      ]
    },
    {
      "cell_type": "code",
      "metadata": {
        "id": "QejGq6v3tiUc",
        "colab": {
          "base_uri": "https://localhost:8080/"
        },
        "outputId": "b2fc15f1-10b6-4801-c443-96046adae12e"
      },
      "source": [
        "import pandas as pd\n",
        "import warnings\n",
        "warnings.filterwarnings(\"ignore\")\n",
        "\n",
        "df = pd.read_csv(r\"/content/train_part_1.csv\",error_bad_lines=False)\n",
        "df = df.drop(df.columns[0], axis=1)\n",
        "# Do note that error_bad_lines=False will cause the offending lines to be skipped.\n",
        "\n",
        "df.shape"
      ],
      "execution_count": 1,
      "outputs": [
        {
          "output_type": "stream",
          "text": [
            "b'Skipping line 12145: expected 6 fields, saw 64\\nSkipping line 12378: expected 6 fields, saw 7\\nSkipping line 19710: expected 6 fields, saw 27\\n'\n"
          ],
          "name": "stderr"
        },
        {
          "output_type": "execute_result",
          "data": {
            "text/plain": [
              "(28192, 5)"
            ]
          },
          "metadata": {
            "tags": []
          },
          "execution_count": 1
        }
      ]
    },
    {
      "cell_type": "code",
      "metadata": {
        "colab": {
          "base_uri": "https://localhost:8080/",
          "height": 285
        },
        "id": "1obf4hsNCGe5",
        "outputId": "178f0581-1b62-4743-c89b-d42202ac05ab"
      },
      "source": [
        "df.head()"
      ],
      "execution_count": 2,
      "outputs": [
        {
          "output_type": "execute_result",
          "data": {
            "text/html": [
              "<div>\n",
              "<style scoped>\n",
              "    .dataframe tbody tr th:only-of-type {\n",
              "        vertical-align: middle;\n",
              "    }\n",
              "\n",
              "    .dataframe tbody tr th {\n",
              "        vertical-align: top;\n",
              "    }\n",
              "\n",
              "    .dataframe thead th {\n",
              "        text-align: right;\n",
              "    }\n",
              "</style>\n",
              "<table border=\"1\" class=\"dataframe\">\n",
              "  <thead>\n",
              "    <tr style=\"text-align: right;\">\n",
              "      <th></th>\n",
              "      <th>id</th>\n",
              "      <th>title</th>\n",
              "      <th>author</th>\n",
              "      <th>text</th>\n",
              "      <th>label</th>\n",
              "    </tr>\n",
              "  </thead>\n",
              "  <tbody>\n",
              "    <tr>\n",
              "      <th>0</th>\n",
              "      <td>0</td>\n",
              "      <td>House Dem Aide: We Didn’t Even See Comey’s Let...</td>\n",
              "      <td>Darrell Lucus</td>\n",
              "      <td>House Dem Aide: We Didn’t Even See Comey’s Let...</td>\n",
              "      <td>1.0</td>\n",
              "    </tr>\n",
              "    <tr>\n",
              "      <th>1</th>\n",
              "      <td>1</td>\n",
              "      <td>FLYNN: Hillary Clinton, Big Woman on Campus - ...</td>\n",
              "      <td>Daniel J. Flynn</td>\n",
              "      <td>Ever get the feeling your life circles the rou...</td>\n",
              "      <td>0.0</td>\n",
              "    </tr>\n",
              "    <tr>\n",
              "      <th>2</th>\n",
              "      <td>2</td>\n",
              "      <td>Why the Truth Might Get You Fired</td>\n",
              "      <td>Consortiumnews.com</td>\n",
              "      <td>Why the Truth Might Get You Fired October 29, ...</td>\n",
              "      <td>1.0</td>\n",
              "    </tr>\n",
              "    <tr>\n",
              "      <th>3</th>\n",
              "      <td>3</td>\n",
              "      <td>15 Civilians Killed In Single US Airstrike Hav...</td>\n",
              "      <td>Jessica Purkiss</td>\n",
              "      <td>Videos 15 Civilians Killed In Single US Airstr...</td>\n",
              "      <td>1.0</td>\n",
              "    </tr>\n",
              "    <tr>\n",
              "      <th>4</th>\n",
              "      <td>4</td>\n",
              "      <td>Iranian woman jailed for fictional unpublished...</td>\n",
              "      <td>Howard Portnoy</td>\n",
              "      <td>Print \\nAn Iranian woman has been sentenced to...</td>\n",
              "      <td>1.0</td>\n",
              "    </tr>\n",
              "  </tbody>\n",
              "</table>\n",
              "</div>"
            ],
            "text/plain": [
              "  id  ... label\n",
              "0  0  ...   1.0\n",
              "1  1  ...   0.0\n",
              "2  2  ...   1.0\n",
              "3  3  ...   1.0\n",
              "4  4  ...   1.0\n",
              "\n",
              "[5 rows x 5 columns]"
            ]
          },
          "metadata": {
            "tags": []
          },
          "execution_count": 2
        }
      ]
    },
    {
      "cell_type": "code",
      "metadata": {
        "colab": {
          "base_uri": "https://localhost:8080/"
        },
        "id": "dgE57CgEc3VN",
        "outputId": "b042bf9a-17ad-4e93-e135-bc5f2a8f3c22"
      },
      "source": [
        "df.isnull().sum()"
      ],
      "execution_count": 3,
      "outputs": [
        {
          "output_type": "execute_result",
          "data": {
            "text/plain": [
              "id        1\n",
              "title     1\n",
              "author    2\n",
              "text      2\n",
              "label     3\n",
              "dtype: int64"
            ]
          },
          "metadata": {
            "tags": []
          },
          "execution_count": 3
        }
      ]
    },
    {
      "cell_type": "code",
      "metadata": {
        "colab": {
          "base_uri": "https://localhost:8080/"
        },
        "id": "VPuD2s0Oc-1v",
        "outputId": "b92c726f-ae1f-4f46-e92f-5ba2fc85460c"
      },
      "source": [
        "df.dropna(inplace=True)\n",
        "df.reset_index(inplace=True)\n",
        "df.shape"
      ],
      "execution_count": 4,
      "outputs": [
        {
          "output_type": "execute_result",
          "data": {
            "text/plain": [
              "(28189, 6)"
            ]
          },
          "metadata": {
            "tags": []
          },
          "execution_count": 4
        }
      ]
    },
    {
      "cell_type": "markdown",
      "metadata": {
        "id": "y3dW4jJpfN28"
      },
      "source": [
        "# **Data Preprocessing** "
      ]
    },
    {
      "cell_type": "markdown",
      "metadata": {
        "id": "_PYBgdfEjQeH"
      },
      "source": [
        "#### **Text Preprocessing**"
      ]
    },
    {
      "cell_type": "markdown",
      "metadata": {
        "id": "1RUEiXT5Jqla"
      },
      "source": [
        "- Preprocessing:\n",
        "    - Removing html tags \n",
        "    - Removing Punctuations\n",
        "    - Performing stemming\n",
        "    - Removing Stopwords\n",
        "    - Expanding contractions etc."
      ]
    },
    {
      "cell_type": "code",
      "metadata": {
        "id": "6lPVfEXVjdwS"
      },
      "source": [
        "#!pip install Distance"
      ],
      "execution_count": 5,
      "outputs": []
    },
    {
      "cell_type": "code",
      "metadata": {
        "id": "p7ocztN4UQFq",
        "colab": {
          "base_uri": "https://localhost:8080/"
        },
        "outputId": "fc637082-29d7-4461-a957-2e3a885eda1c"
      },
      "source": [
        "import nltk\n",
        "nltk.download('stopwords')\n",
        "import re\n",
        "from nltk.corpus import stopwords\n",
        "import distance\n",
        "from nltk.stem import PorterStemmer\n",
        "from bs4 import BeautifulSoup"
      ],
      "execution_count": 6,
      "outputs": [
        {
          "output_type": "stream",
          "text": [
            "[nltk_data] Downloading package stopwords to /root/nltk_data...\n",
            "[nltk_data]   Package stopwords is already up-to-date!\n"
          ],
          "name": "stdout"
        }
      ]
    },
    {
      "cell_type": "markdown",
      "metadata": {
        "id": "Oi2T0UEfm3q2"
      },
      "source": [
        "### **Illustration**"
      ]
    },
    {
      "cell_type": "markdown",
      "metadata": {
        "id": "ep5UTEZc3-tR"
      },
      "source": [
        "* The text pre-processing steps followed here are:\n",
        "1. Perform lowercase operation\n",
        "2. Punctuation Removal\n",
        "3. Tokenization\n",
        "4. Stemming\n",
        "5. Stop-words removal\n",
        "6. Join the words to create sentences\n",
        "7. Get the Corpus!\n"
      ]
    },
    {
      "cell_type": "code",
      "metadata": {
        "colab": {
          "base_uri": "https://localhost:8080/",
          "height": 35
        },
        "id": "Dj5ZEQhWmw-u",
        "outputId": "8048e95e-d1c2-42e8-fa47-d31d938d3153"
      },
      "source": [
        "doc1 = df['title'][0]\n",
        "doc1"
      ],
      "execution_count": 7,
      "outputs": [
        {
          "output_type": "execute_result",
          "data": {
            "application/vnd.google.colaboratory.intrinsic+json": {
              "type": "string"
            },
            "text/plain": [
              "'House Dem Aide: We Didn’t Even See Comey’s Letter Until Jason Chaffetz Tweeted It'"
            ]
          },
          "metadata": {
            "tags": []
          },
          "execution_count": 7
        }
      ]
    },
    {
      "cell_type": "code",
      "metadata": {
        "colab": {
          "base_uri": "https://localhost:8080/",
          "height": 35
        },
        "id": "2DpQciCUm-KX",
        "outputId": "74c9d141-447a-48a0-ca5c-64451140afe4"
      },
      "source": [
        "# Here 'House' and 'house' are the same words and should be treated same after converting into numbers\n",
        "# hence converting them to lower case\n",
        "\n",
        "doc1 = doc1.lower()\n",
        "doc1"
      ],
      "execution_count": 8,
      "outputs": [
        {
          "output_type": "execute_result",
          "data": {
            "application/vnd.google.colaboratory.intrinsic+json": {
              "type": "string"
            },
            "text/plain": [
              "'house dem aide: we didn’t even see comey’s letter until jason chaffetz tweeted it'"
            ]
          },
          "metadata": {
            "tags": []
          },
          "execution_count": 8
        }
      ]
    },
    {
      "cell_type": "markdown",
      "metadata": {
        "id": "hX5jCjI2oOLh"
      },
      "source": [
        "Consider ‘What is data science?’ sentence for illustration:\n",
        "* Token: You get a token by splitting a sentence by a space.\n",
        "* Ex.: ‘What’, ‘is’, ‘data’, ‘science?’ are the 4 tokens.\n",
        "* Stop-Words: stop words as per NLTK.\n",
        "* Ex.: here ‘is’ is the stop word.\n",
        "* Word: A token that is not a stop_word.\n",
        "* Ex.: ‘What’, ‘data’, ‘science?’ are the words."
      ]
    },
    {
      "cell_type": "code",
      "metadata": {
        "colab": {
          "base_uri": "https://localhost:8080/",
          "height": 35
        },
        "id": "1uyfSibfqta_",
        "outputId": "8b56a763-afc7-403f-bd6f-2e84b8f0a2ab"
      },
      "source": [
        "# removing special characters and punctuations\n",
        "\n",
        "punc = '''!()-[]{};:'\"\\, <>./?@#$%^&*_~'''\n",
        "\n",
        "for ele in doc1: \n",
        "    if ele in punc: \n",
        "        doc1 = doc1.replace(ele, \" \") \n",
        "doc1    "
      ],
      "execution_count": 9,
      "outputs": [
        {
          "output_type": "execute_result",
          "data": {
            "application/vnd.google.colaboratory.intrinsic+json": {
              "type": "string"
            },
            "text/plain": [
              "'house dem aide  we didn’t even see comey’s letter until jason chaffetz tweeted it'"
            ]
          },
          "metadata": {
            "tags": []
          },
          "execution_count": 9
        }
      ]
    },
    {
      "cell_type": "code",
      "metadata": {
        "colab": {
          "base_uri": "https://localhost:8080/"
        },
        "id": "TLngKnrJnqHF",
        "outputId": "db8fb869-2a6f-4b9b-aa22-b8ded57114cd"
      },
      "source": [
        "# Splitting tokens on the basis of space\n",
        "tokens1 = doc1.split(' ')\n",
        "\n",
        "# first 10 tokens are\n",
        "tokens1[:10]"
      ],
      "execution_count": 10,
      "outputs": [
        {
          "output_type": "execute_result",
          "data": {
            "text/plain": [
              "['house',\n",
              " 'dem',\n",
              " 'aide',\n",
              " '',\n",
              " 'we',\n",
              " 'didn’t',\n",
              " 'even',\n",
              " 'see',\n",
              " 'comey’s',\n",
              " 'letter']"
            ]
          },
          "metadata": {
            "tags": []
          },
          "execution_count": 10
        }
      ]
    },
    {
      "cell_type": "code",
      "metadata": {
        "colab": {
          "base_uri": "https://localhost:8080/"
        },
        "id": "e-uaxyPQogTA",
        "outputId": "a6030bb7-5052-4640-8da3-e0e19a6e90b8"
      },
      "source": [
        "# we need to perform stemming and stopwords on the above tokens\n",
        "\n",
        "# first 10 words after performing stemming and stopwords removal\n",
        "\n",
        "words1 = [PorterStemmer().stem(token) for token in tokens1 if token not in set(stopwords.words('english'))]\n",
        "words1[:10]"
      ],
      "execution_count": 11,
      "outputs": [
        {
          "output_type": "execute_result",
          "data": {
            "text/plain": [
              "['hous',\n",
              " 'dem',\n",
              " 'aid',\n",
              " '',\n",
              " 'didn’t',\n",
              " 'even',\n",
              " 'see',\n",
              " 'comey’',\n",
              " 'letter',\n",
              " 'jason']"
            ]
          },
          "metadata": {
            "tags": []
          },
          "execution_count": 11
        }
      ]
    },
    {
      "cell_type": "code",
      "metadata": {
        "colab": {
          "base_uri": "https://localhost:8080/",
          "height": 35
        },
        "id": "MNhCMU3Rr_On",
        "outputId": "af62b292-d52a-4c55-c53a-bdf4d75d3209"
      },
      "source": [
        "doc1 = ' '.join(words1)\n",
        "doc1"
      ],
      "execution_count": 12,
      "outputs": [
        {
          "output_type": "execute_result",
          "data": {
            "application/vnd.google.colaboratory.intrinsic+json": {
              "type": "string"
            },
            "text/plain": [
              "'hous dem aid  didn’t even see comey’ letter jason chaffetz tweet'"
            ]
          },
          "metadata": {
            "tags": []
          },
          "execution_count": 12
        }
      ]
    },
    {
      "cell_type": "code",
      "metadata": {
        "colab": {
          "base_uri": "https://localhost:8080/"
        },
        "id": "xuvMTo82snZX",
        "outputId": "9c684d29-42f8-467a-fa6a-245a1fe791f1"
      },
      "source": [
        "#clubbing everything together\n",
        "\n",
        "documents = pd.DataFrame(df['title'][:2])\n",
        "\n",
        "def punc_remove(doc):\n",
        "  punc = '''!()-[]{};:'\"\\, <>./?@#$%^&*_~'''\n",
        "  for ele in doc: \n",
        "    if ele in punc: \n",
        "        doc = doc.replace(ele, \" \") \n",
        "  return doc      \n",
        "\n",
        "\n",
        "corpus=[]\n",
        "sentences=[]\n",
        "for i in range(0,len(documents)):\n",
        "    review = re.sub('[^a-zA-Z]',' ', documents['title'][i])\n",
        "    review = review.lower()\n",
        "    review = punc_remove(review)\n",
        "    tokens = review.split()\n",
        "    words = [PorterStemmer().stem(token) for token in tokens if token not in set(stopwords.words('english'))]\n",
        "    sentences =' '.join(words)\n",
        "    corpus.append(sentences)\n",
        "\n",
        "print(corpus)"
      ],
      "execution_count": 13,
      "outputs": [
        {
          "output_type": "stream",
          "text": [
            "['hous dem aid even see comey letter jason chaffetz tweet', 'flynn hillari clinton big woman campu breitbart']\n"
          ],
          "name": "stdout"
        }
      ]
    },
    {
      "cell_type": "markdown",
      "metadata": {
        "id": "slBaYhScxBpQ"
      },
      "source": [
        "### Performing Pre-processing of the data"
      ]
    },
    {
      "cell_type": "code",
      "metadata": {
        "id": "xdTaujeWZvRS",
        "colab": {
          "base_uri": "https://localhost:8080/"
        },
        "outputId": "ab626c04-6db3-4066-e43b-6bc29c4ecaaf"
      },
      "source": [
        "# To get the results in 4 decimal points\n",
        "SAFE_DIV = 0.0001 \n",
        "\n",
        "STOP_WORDS = stopwords.words(\"english\")\n",
        "from tqdm import tqdm\n",
        "\n",
        "def preprocess(documents):\n",
        "    corpus=[]\n",
        "    sentences=[]\n",
        "    for i in tqdm(range(0,len(documents))):\n",
        "      news = re.sub('[^a-zA-Z]',' ',documents['title'][i])\n",
        "      news = news.lower()\n",
        "      #news = news.replace(\",000,000\", \"m\").replace(\",000\", \"k\").replace(\"′\", \"'\").replace(\"’\", \"'\")\\\n",
        "      #                        .replace(\"won't\", \"will not\").replace(\"cannot\", \"can not\")\\\n",
        "      #                        .replace(\"can't\", \"can not\")\\\n",
        "      #                        .replace(\"n't\", \" not\").replace(\"what's\", \"what is\")\\\n",
        "      #                        .replace(\"it's\", \"it is\")\\\n",
        "      #                        .replace(\"'ve\", \" have\").replace(\"i'm\", \"i am\").replace(\"'re\", \" are\")\\\n",
        "      #                        .replace(\"he's\", \"he is\").replace(\"she's\", \"she is\").replace(\"'s\", \" own\")\\\n",
        "      #                        .replace(\"%\", \" percent \").replace(\"₹\", \" rupee \").replace(\"$\", \" dollar \")\\\n",
        "      #                        .replace(\"€\", \" euro \").replace(\"'ll\", \" will\")\n",
        "      #news = re.sub(r\"([0-9]+)000000\", r\"\\1m\", news)\n",
        "      #news = re.sub(r\"([0-9]+)000\", r\"\\1k\", news)\n",
        "      #news = punc_remove(news)\n",
        "      tokens = news.split(' ')\n",
        "      words = [PorterStemmer().stem(token) for token in tokens if token not in set(stopwords.words('english'))]\n",
        "      sentences =' '.join(words)\n",
        "      corpus.append(sentences)\n",
        "    return corpus\n",
        "\n",
        "print(preprocess(df.iloc[:1]))\n",
        "corpus = preprocess(df)    \n"
      ],
      "execution_count": 14,
      "outputs": [
        {
          "output_type": "stream",
          "text": [
            "100%|██████████| 1/1 [00:00<00:00, 138.66it/s]\n",
            "  0%|          | 27/28189 [00:00<01:45, 267.70it/s]"
          ],
          "name": "stderr"
        },
        {
          "output_type": "stream",
          "text": [
            "['hous dem aid  even see comey letter jason chaffetz tweet']\n"
          ],
          "name": "stdout"
        },
        {
          "output_type": "stream",
          "text": [
            "100%|██████████| 28189/28189 [01:13<00:00, 384.96it/s]\n"
          ],
          "name": "stderr"
        }
      ]
    },
    {
      "cell_type": "code",
      "metadata": {
        "colab": {
          "base_uri": "https://localhost:8080/"
        },
        "id": "fuOkkygJb8sc",
        "outputId": "40dfba6f-323f-40ef-fef8-91da88ce0678"
      },
      "source": [
        "len(corpus)"
      ],
      "execution_count": 15,
      "outputs": [
        {
          "output_type": "execute_result",
          "data": {
            "text/plain": [
              "28189"
            ]
          },
          "metadata": {
            "tags": []
          },
          "execution_count": 15
        }
      ]
    },
    {
      "cell_type": "markdown",
      "metadata": {
        "id": "XdqWddDjMBf-"
      },
      "source": [
        "# Feature Extraction with Bag of Words (BoW)"
      ]
    },
    {
      "cell_type": "code",
      "metadata": {
        "colab": {
          "base_uri": "https://localhost:8080/"
        },
        "id": "Vx6HCitN9bFu",
        "outputId": "90ecf88f-01df-429e-ac04-8ddda7ecf7a7"
      },
      "source": [
        "# Applying Countvectorizer\n",
        "from sklearn.feature_extraction.text import CountVectorizer\n",
        "\n",
        "## max_features=5000, it means I just need top 5000 features \n",
        "#example ABC News is basically 2 words,so in ngram,i have Given (1,3),so it will take the combination of 1 word,then 2 words \n",
        "#then 3 words\n",
        "\n",
        "cv = CountVectorizer(max_features=5000,ngram_range=(1,3))\n",
        "\n",
        "X = cv.fit_transform(corpus).toarray()\n",
        "print(X.shape)"
      ],
      "execution_count": 16,
      "outputs": [
        {
          "output_type": "stream",
          "text": [
            "(28189, 5000)\n"
          ],
          "name": "stdout"
        }
      ]
    },
    {
      "cell_type": "code",
      "metadata": {
        "colab": {
          "base_uri": "https://localhost:8080/"
        },
        "id": "PCHc5iryqmMV",
        "outputId": "dfc550c8-8e84-4da7-c8db-d3e8f6f90a6e"
      },
      "source": [
        "X"
      ],
      "execution_count": 17,
      "outputs": [
        {
          "output_type": "execute_result",
          "data": {
            "text/plain": [
              "array([[0, 0, 0, ..., 0, 0, 0],\n",
              "       [0, 0, 0, ..., 0, 0, 0],\n",
              "       [0, 0, 0, ..., 0, 0, 0],\n",
              "       ...,\n",
              "       [0, 0, 0, ..., 0, 0, 0],\n",
              "       [0, 0, 0, ..., 0, 0, 0],\n",
              "       [0, 0, 0, ..., 0, 0, 0]])"
            ]
          },
          "metadata": {
            "tags": []
          },
          "execution_count": 17
        }
      ]
    },
    {
      "cell_type": "markdown",
      "metadata": {
        "id": "kN1jIkhfDzX2"
      },
      "source": [
        "#### Which are the top 7 features?"
      ]
    },
    {
      "cell_type": "code",
      "metadata": {
        "id": "uIkyRv419DG5",
        "colab": {
          "base_uri": "https://localhost:8080/"
        },
        "outputId": "14139eda-5595-4a63-e11b-3331a58a3127"
      },
      "source": [
        "print(cv.get_feature_names()[0:7])"
      ],
      "execution_count": 18,
      "outputs": [
        {
          "output_type": "stream",
          "text": [
            "['abandon', 'abc', 'abc news', 'abduct', 'abe', 'abedin', 'abl']\n"
          ],
          "name": "stdout"
        }
      ]
    },
    {
      "cell_type": "markdown",
      "metadata": {
        "id": "VbEDVHcG5sN_"
      },
      "source": [
        "# Feature Extraction with TF-IDF"
      ]
    },
    {
      "cell_type": "markdown",
      "metadata": {
        "id": "v67-tNkr6JBs"
      },
      "source": [
        "## Applying TFIDFvectorizer"
      ]
    },
    {
      "cell_type": "code",
      "metadata": {
        "id": "5OrY5s0SDYVs"
      },
      "source": [
        "# from sklearn.feature_extraction.text import TfidfVectorizer\n",
        "# corpus = preprocess(df)\n",
        "# vectorizer = TfidfVectorizer()\n",
        "# X = vectorizer.fit_transform(corpus)\n",
        "# print(X.shape)\n"
      ],
      "execution_count": 19,
      "outputs": []
    },
    {
      "cell_type": "markdown",
      "metadata": {
        "id": "3fa4ODE-9EuG"
      },
      "source": [
        "# Function to plot confusion matrix"
      ]
    },
    {
      "cell_type": "code",
      "metadata": {
        "id": "XfxcPT6jtASg"
      },
      "source": [
        "# This function plots the confusion matrices given y_i, y_i_hat.\n",
        "def plot_confusion_matrix(test_y, predict_y):\n",
        "    C = confusion_matrix(test_y, predict_y)\n",
        "    \n",
        "    # C = 9,9 matrix, each cell (i,j) represents number of points of class i are predicted class j\n",
        "    \n",
        "    A =(((C.T)/(C.sum(axis=1))).T)\n",
        "    #divide each element of the confusion matrix with the sum of elements in that column\n",
        "    \n",
        "    # C = [[1, 2],\n",
        "    #     [3, 4]]\n",
        "    # C.T = [[1, 3],\n",
        "    #        [2, 4]]\n",
        "    # C.sum(axis = 1)  axis=0 corresonds to columns and axis=1 corresponds to rows in two diamensional array\n",
        "    # C.sum(axix =1) = [[3, 7]]\n",
        "    # ((C.T)/(C.sum(axis=1))) = [[1/3, 3/7]\n",
        "    #                           [2/3, 4/7]]\n",
        "\n",
        "    # ((C.T)/(C.sum(axis=1))).T = [[1/3, 2/3]\n",
        "    #                           [3/7, 4/7]]\n",
        "    # sum of row elements = 1\n",
        "    \n",
        "    B =(C/C.sum(axis=0))\n",
        "    \n",
        "    #divide each element of the confusion matrix with the sum of elements in that row\n",
        "    # C = [[1, 2],\n",
        "    #     [3, 4]]\n",
        "    # C.sum(axis = 0)  axis=0 corresonds to columns and axis=1 corresponds to rows in two diamensional array\n",
        "    # C.sum(axix =0) = [[4, 6]]\n",
        "    # (C/C.sum(axis=0)) = [[1/4, 2/6],\n",
        "    #                      [3/4, 4/6]] \n",
        "    plt.figure(figsize=(20,4))\n",
        "    \n",
        "    labels = [0,1]\n",
        "    # representing A in heatmap format\n",
        "    cmap=sns.light_palette(\"blue\")\n",
        "    plt.subplot(1, 3, 1)\n",
        "    sns.heatmap(C, annot=True, cmap=cmap, fmt=\".3f\", xticklabels=labels, yticklabels=labels)\n",
        "    plt.xlabel('Predicted Class')\n",
        "    plt.ylabel('Original Class')\n",
        "    plt.title(\"Confusion matrix\")\n",
        "    \n",
        "    plt.subplot(1, 3, 2)\n",
        "    sns.heatmap(B, annot=True, cmap=cmap, fmt=\".3f\", xticklabels=labels, yticklabels=labels)\n",
        "    plt.xlabel('Predicted Class')\n",
        "    plt.ylabel('Original Class')\n",
        "    plt.title(\"Precision matrix\")\n",
        "    \n",
        "    plt.subplot(1, 3, 3)\n",
        "    # representing B in heatmap format\n",
        "    sns.heatmap(A, annot=True, cmap=cmap, fmt=\".3f\", xticklabels=labels, yticklabels=labels)\n",
        "    plt.xlabel('Predicted Class')\n",
        "    plt.ylabel('Original Class')\n",
        "    plt.title(\"Recall matrix\")\n",
        "    \n",
        "    plt.show()"
      ],
      "execution_count": 20,
      "outputs": []
    },
    {
      "cell_type": "markdown",
      "metadata": {
        "id": "IVFCDppNFXvh"
      },
      "source": [
        "# Train-Test Split"
      ]
    },
    {
      "cell_type": "code",
      "metadata": {
        "colab": {
          "base_uri": "https://localhost:8080/"
        },
        "id": "2zzYMXfmrLLW",
        "outputId": "14ac886c-7dda-4faf-943e-b5911dedbf68"
      },
      "source": [
        "df.shape"
      ],
      "execution_count": 21,
      "outputs": [
        {
          "output_type": "execute_result",
          "data": {
            "text/plain": [
              "(28189, 6)"
            ]
          },
          "metadata": {
            "tags": []
          },
          "execution_count": 21
        }
      ]
    },
    {
      "cell_type": "code",
      "metadata": {
        "id": "d7Z_vwH9FXJq"
      },
      "source": [
        "y_true = df['label']"
      ],
      "execution_count": 22,
      "outputs": []
    },
    {
      "cell_type": "code",
      "metadata": {
        "id": "p2TCtLoKFBwE"
      },
      "source": [
        "from sklearn.model_selection import train_test_split\n",
        "X_train,X_test, y_train, y_test = train_test_split(X, y_true,test_size=0.25, random_state=42)"
      ],
      "execution_count": 23,
      "outputs": []
    },
    {
      "cell_type": "code",
      "metadata": {
        "id": "wT8znIW3FFZU",
        "colab": {
          "base_uri": "https://localhost:8080/"
        },
        "outputId": "3501b10f-c093-4768-8318-dfbe4d9e8a5f"
      },
      "source": [
        "print(\"Number of data points in train data :\",X_train.shape)\n",
        "print(\"Number of data points in validation data :\",X_test.shape)"
      ],
      "execution_count": 24,
      "outputs": [
        {
          "output_type": "stream",
          "text": [
            "Number of data points in train data : (21141, 5000)\n",
            "Number of data points in validation data : (7048, 5000)\n"
          ],
          "name": "stdout"
        }
      ]
    },
    {
      "cell_type": "code",
      "metadata": {
        "id": "zwHTcjZNFIa5",
        "colab": {
          "base_uri": "https://localhost:8080/"
        },
        "outputId": "1018e126-f14c-4dbc-a757-111899dc2ab8"
      },
      "source": [
        "from collections import Counter\n",
        "\n",
        "print(\"-\"*10, \"Distribution of output variable in train data\", \"-\"*10)\n",
        "train_distr = Counter(y_train)\n",
        "train_len = len(y_train)\n",
        "print(\"Class 0: \",round(int(train_distr[0])*100/train_len,2),\"Class 1: \", round(int(train_distr[1])*100/train_len,2))\n",
        "\n",
        "print(\"-\"*10, \"Distribution of output variable in validation data\", \"-\"*10)\n",
        "test_distr = Counter(y_test)\n",
        "test_len = len(y_test)\n",
        "print(\"Class 0: \",round(int(test_distr[0])*100/test_len,2), \"Class 1: \",round(int(test_distr[1])*100/test_len,2))"
      ],
      "execution_count": 25,
      "outputs": [
        {
          "output_type": "stream",
          "text": [
            "---------- Distribution of output variable in train data ----------\n",
            "Class 0:  56.13 Class 1:  43.87\n",
            "---------- Distribution of output variable in validation data ----------\n",
            "Class 0:  57.95 Class 1:  42.05\n"
          ],
          "name": "stdout"
        }
      ]
    },
    {
      "cell_type": "markdown",
      "metadata": {
        "id": "aS2tJ2yo9LJr"
      },
      "source": [
        "# Random Baseline Model"
      ]
    },
    {
      "cell_type": "code",
      "metadata": {
        "id": "LxxfYT8b9NV5"
      },
      "source": [
        "from sklearn import metrics\n",
        "from sklearn.metrics import confusion_matrix\n",
        "from sklearn.metrics.classification import accuracy_score\n",
        "import numpy as np\n",
        "import matplotlib.pyplot as plt\n",
        "import seaborn as sns"
      ],
      "execution_count": 26,
      "outputs": []
    },
    {
      "cell_type": "code",
      "metadata": {
        "id": "qwMDqcU7tASl",
        "colab": {
          "base_uri": "https://localhost:8080/",
          "height": 232
        },
        "outputId": "c9ef2e17-0536-43eb-cb9e-ed2a711ea41d"
      },
      "source": [
        "# we create a output array that has exactly same size as the CV data\n",
        "predicted_y = np.zeros((test_len,2))\n",
        "for i in range(test_len):\n",
        "    rand_probs = np.random.rand(1,2)\n",
        "    predicted_y[i] = ((rand_probs/sum(sum(rand_probs)))[0])\n",
        "\n",
        "predicted_y =np.argmax(predicted_y, axis=1)\n",
        "\n",
        "print(\"Accuracy on Validation Data using Random Model\",round(accuracy_score(y_test, predicted_y),2))\n",
        "\n",
        "plot_confusion_matrix(y_test, predicted_y)\n"
      ],
      "execution_count": 27,
      "outputs": [
        {
          "output_type": "stream",
          "text": [
            "Accuracy on Validation Data using Random Model 0.5\n"
          ],
          "name": "stdout"
        },
        {
          "output_type": "display_data",
          "data": {
            "image/png": "[encoded data removed]",
            "text/plain": [
              "<Figure size 1440x288 with 6 Axes>"
            ]
          },
          "metadata": {
            "tags": [],
            "needs_background": "light"
          }
        }
      ]
    },
    {
      "cell_type": "markdown",
      "metadata": {
        "id": "DmKFqgPoF2tU"
      },
      "source": [
        "# Multinomial Naive Bayes Model"
      ]
    },
    {
      "cell_type": "code",
      "metadata": {
        "id": "CedNMw-rF7f3",
        "colab": {
          "base_uri": "https://localhost:8080/",
          "height": 252
        },
        "outputId": "77bbff9f-8b2f-46e6-fc86-c77b256ff524"
      },
      "source": [
        "from sklearn.naive_bayes import MultinomialNB\n",
        "classifier=MultinomialNB()\n",
        "\n",
        "classifier.fit(X_train,y_train)\n",
        "\n",
        "predicted_y_train = classifier.predict_proba(X_train)\n",
        "predicted_y_train = np.argmax(predicted_y_train,axis=1)\n",
        "print(\"Accuracy on Train Data using NB Model\",round(metrics.accuracy_score(y_train, predicted_y_train),2))\n",
        "\n",
        "predict_y = classifier.predict_proba(X_test)\n",
        "predicted_y =np.argmax(predict_y,axis=1)\n",
        "\n",
        "#print(\"Total number of validation data points :\", len(predicted_y))\n",
        "print(\"Accuracy on Validation Data using NB Model\",round(metrics.accuracy_score(y_test,predicted_y),2))\n",
        "plot_confusion_matrix(y_test, predicted_y)"
      ],
      "execution_count": 28,
      "outputs": [
        {
          "output_type": "stream",
          "text": [
            "Accuracy on Train Data using NB Model 0.92\n",
            "Accuracy on Validation Data using NB Model 0.9\n"
          ],
          "name": "stdout"
        },
        {
          "output_type": "display_data",
          "data": {
            "image/png": "[encoded data removed]",
            "text/plain": [
              "<Figure size 1440x288 with 6 Axes>"
            ]
          },
          "metadata": {
            "tags": [],
            "needs_background": "light"
          }
        }
      ]
    },
    {
      "cell_type": "markdown",
      "metadata": {
        "id": "gOh3QkSUISJ_"
      },
      "source": [
        "# Passive Aggressive Classification Model"
      ]
    },
    {
      "cell_type": "code",
      "metadata": {
        "id": "qlaZvFJm4pId"
      },
      "source": [
        "from sklearn.linear_model import PassiveAggressiveClassifier"
      ],
      "execution_count": 29,
      "outputs": []
    },
    {
      "cell_type": "code",
      "metadata": {
        "id": "_ez_VunC4pId",
        "colab": {
          "base_uri": "https://localhost:8080/"
        },
        "outputId": "60166bee-7c9b-4a8e-b419-f050bbba5bed"
      },
      "source": [
        "linear_clf=PassiveAggressiveClassifier()\n",
        "# Fitting model \n",
        "linear_clf.fit(X_train, y_train)"
      ],
      "execution_count": 30,
      "outputs": [
        {
          "output_type": "execute_result",
          "data": {
            "text/plain": [
              "PassiveAggressiveClassifier(C=1.0, average=False, class_weight=None,\n",
              "                            early_stopping=False, fit_intercept=True,\n",
              "                            loss='hinge', max_iter=1000, n_iter_no_change=5,\n",
              "                            n_jobs=None, random_state=None, shuffle=True,\n",
              "                            tol=0.001, validation_fraction=0.1, verbose=0,\n",
              "                            warm_start=False)"
            ]
          },
          "metadata": {
            "tags": []
          },
          "execution_count": 30
        }
      ]
    },
    {
      "cell_type": "code",
      "metadata": {
        "id": "pF9MFmplIkx-",
        "colab": {
          "base_uri": "https://localhost:8080/",
          "height": 270
        },
        "outputId": "fb875493-e53d-48e0-8e6e-b0e10670dd46"
      },
      "source": [
        "predictions=linear_clf.predict(X_test)\n",
        "\n",
        "predicted_y_train = linear_clf.predict(X_train)\n",
        "print(\"Accuracy on Train Data using PassiveAgressive Model\",round(metrics.accuracy_score(y_train, predicted_y_train),2))\n",
        "\n",
        "pred = linear_clf.predict(X_test)\n",
        "\n",
        "print(\"Total number of validation data points :\", len(predicted_y))\n",
        "print(\"Accuracy on Validation Data using PassiveAgressive Model\",round(metrics.accuracy_score(y_test,pred),2))\n",
        "plot_confusion_matrix(y_test, pred)"
      ],
      "execution_count": 31,
      "outputs": [
        {
          "output_type": "stream",
          "text": [
            "Accuracy on Train Data using PassiveAgressive Model 1.0\n",
            "Total number of validation data points : 7048\n",
            "Accuracy on Validation Data using PassiveAgressive Model 0.96\n"
          ],
          "name": "stdout"
        },
        {
          "output_type": "display_data",
          "data": {
            "image/png": "[encoded data removed]",
            "text/plain": [
              "<Figure size 1440x288 with 6 Axes>"
            ]
          },
          "metadata": {
            "tags": [],
            "needs_background": "light"
          }
        }
      ]
    },
    {
      "cell_type": "code",
      "metadata": {
        "colab": {
          "base_uri": "https://localhost:8080/"
        },
        "id": "0jOfVgMIbCgq",
        "outputId": "e050e117-bda4-46c0-ca0a-fe3ab36305df"
      },
      "source": [
        "metrics.accuracy_score(y_test,pred)"
      ],
      "execution_count": 32,
      "outputs": [
        {
          "output_type": "execute_result",
          "data": {
            "text/plain": [
              "0.9574347332576617"
            ]
          },
          "metadata": {
            "tags": []
          },
          "execution_count": 32
        }
      ]
    },
    {
      "cell_type": "markdown",
      "metadata": {
        "id": "AOhQrdwLI3vg"
      },
      "source": [
        "# End!"
      ]
    }
  ]
}